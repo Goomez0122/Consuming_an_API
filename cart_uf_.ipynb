{
 "cells": [
  {
   "cell_type": "code",
   "id": "initial_id",
   "metadata": {
    "collapsed": true
   },
   "source": [
    "from pathlib import Path\n",
    "import pandas as pd\n",
    "import xmltodict\n",
    "from tqdm.notebook import tqdm\n",
    "from zeep import Client"
   ],
   "outputs": [],
   "execution_count": null
  },
  {
   "metadata": {},
   "cell_type": "code",
   "source": [
    "path = Path(\"data\").resolve()\n",
    "\n",
    "path.mkdir(parents=True, exist_ok=True)\n",
    "path.exists(), pat"
   ],
   "id": "53030245908467d9",
   "outputs": [],
   "execution_count": null
  },
  {
   "metadata": {},
   "cell_type": "code",
   "source": [
    "\n",
    "wsdl_url = 'API USADA'\n",
    "\n",
    "client = Client(wsdl_url)\n",
    "dt_inicio = '2024-06-01'  # Data de início no formato AAAA-MM-DD\n",
    "dt_final = ''  # Data final no formato AAAA-MM-DD"
   ],
   "id": "62d762ff4c5f5c2d",
   "outputs": [],
   "execution_count": null
  },
  {
   "metadata": {},
   "cell_type": "code",
   "source": [
    "list_ufs = ['AC', 'AL', 'AM', 'AP', 'BA', 'CE', 'DF', 'ES', 'GO', 'MA', 'MG', 'MS', 'MT', 'PA', 'PB', 'PE', 'PI', 'PR',\n",
    "            'RJ', 'RN', 'RO', 'RR', 'RS', 'SC', 'SE', 'SP', 'TO']\n",
    "\n",
    "ind_uf = list_ufs[0]\n",
    "\n",
    "df_servico = pd.DataFrame()\n",
    "ind_uf"
   ],
   "id": "47ce36db359fb501",
   "outputs": [],
   "execution_count": null
  },
  {
   "metadata": {},
   "cell_type": "code",
   "source": [
    "response_servico = client.service.servico(dt_inicio, dt_final, ind_uf)\n",
    "\n",
    "path.joinpath(f\"servico_{ind_uf}.xml\").write_text(response_servico, encoding='utf-8')\n",
    "\n",
    "response_servico[:1000]"
   ],
   "id": "962fb25567352a5f",
   "outputs": [],
   "execution_count": null
  },
  {
   "metadata": {},
   "cell_type": "code",
   "source": [
    "dic = xmltodict.parse(response_servico)\n",
    "dic['RESULTADO']['ROW'][0]"
   ],
   "id": "61b3fa79eb9afe69",
   "outputs": [],
   "execution_count": null
  },
  {
   "metadata": {},
   "cell_type": "code",
   "source": [
    "def get_data(_ind_uf: str, _dt_inicio: str, _dt_final: str):\n",
    "    print('uf:', _ind_uf)\n",
    "    \n",
    "    _response_servico = client.service.servico(_dt_inicio, _dt_final, _ind_uf)\n",
    "    _response_servico = _response_servico.replace('&', '&amp;').replace('<a href=', '&lt;a href=')\n",
    "    \n",
    "    print('len:', len(_response_servico))\n",
    "    \n",
    "    _filepath = path.joinpath(f\"servico_{_ind_uf}.xml\")\n",
    "    _filepath.open('w+', encoding='utf-8').write(_response_servico)\n",
    "    \n",
    "    print('filepath:', _filepath)\n",
    "    \n",
    "    try:\n",
    "        _dic = xmltodict.parse(_response_servico, encoding='utf-8')\n",
    "        \n",
    "        _result = _dic.get('RESULTADO', {})\n",
    "        _row = _result.get('ROW', [])\n",
    "        \n",
    "        print('dic:', _dic.keys())\n",
    "        print('result:', _result.keys())\n",
    "        print('len_row:', len(_row))\n",
    "    except Exception as e:\n",
    "        print('ERROR:', uf, _filepath, e)\n",
    "        \n",
    "        return _filepath, e\n",
    "    \n",
    "    return _row\n",
    "\n",
    "\n",
    "rows = get_data('AC', dt_inicio, dt_final)\n",
    "print(len(rows))"
   ],
   "id": "4913e46612f07090",
   "outputs": [],
   "execution_count": null
  },
  {
   "metadata": {},
   "cell_type": "code",
   "source": [
    "uf_rows = []\n",
    "uf_errors = {}\n",
    "\n",
    "for uf in tqdm(list_ufs):\n",
    "    rows = get_data(uf, dt_inicio, dt_final)\n",
    "    \n",
    "    if isinstance(rows, tuple):\n",
    "        uf_errors[uf] = rows\n",
    "        \n",
    "        continue\n",
    "    \n",
    "    uf_rows.extend(rows)\n",
    "    print(len(rows))"
   ],
   "id": "9f2ad366e1f20033",
   "outputs": [],
   "execution_count": null
  },
  {
   "metadata": {},
   "cell_type": "code",
   "source": "print(*[f\"{k}: {f!s} - {e!s}\" for k, (f, e) in uf_errors.items()], sep='\\n')",
   "id": "4f019959d088b1bf",
   "outputs": [],
   "execution_count": null
  },
  {
   "metadata": {},
   "cell_type": "code",
   "source": "path.joinpath('.csv').write_text('\\n'.join([str(row) for row in uf_rows]), encoding='utf-8')",
   "id": "605a71fee27e3988",
   "outputs": [],
   "execution_count": null
  },
  {
   "metadata": {},
   "cell_type": "code",
   "source": [
    "uf_row = uf_rows[0]\n",
    "\n",
    "uf_row"
   ],
   "id": "35c43d7313b3c180",
   "outputs": [],
   "execution_count": null
  },
  {
   "metadata": {},
   "cell_type": "code",
   "source": "uf_row['CPF_SUBSTITUTO'] is None",
   "id": "ac864bb735174fa1",
   "outputs": [],
   "execution_count": null
  },
  {
   "metadata": {},
   "cell_type": "code",
   "source": [
    "import pandas as pd\n",
    "\n",
    "df = pd.DataFrame(uf_rows)\n",
    "\n",
    "df"
   ],
   "id": "230457e071be1c34",
   "outputs": [],
   "execution_count": null
  },
  {
   "metadata": {},
   "cell_type": "code",
   "source": "df[['DT_INATIVACAO', 'DT_INSTALACAO', 'DAT_INCLUSAO', 'DAT_ALTERACAO', 'DAT_ALTERACAO_SUBSTITUTO']]",
   "id": "e6a8fc9ca7182e29",
   "outputs": [],
   "execution_count": null
  },
  {
   "metadata": {},
   "cell_type": "code",
   "source": "pd.to_datetime(df[df['DT_INATIVACAO'].notnull()]['DT_INATIVACAO'])",
   "id": "ba6712f743fb35ff",
   "outputs": [],
   "execution_count": null
  },
  {
   "metadata": {},
   "cell_type": "code",
   "source": [
    "df_transformed = df.copy()\n",
    "\n",
    "df_transformed['DT_INATIVACAO'] = pd.to_datetime(df_transformed['DT_INATIVACAO'], format='%Y-%m-%d', errors='coerce')\n",
    "df_transformed['DT_INSTALACAO'] = pd.to_datetime(df_transformed['DT_INSTALACAO'], format='%Y-%m-%d', errors='coerce')\n",
    "df_transformed['DAT_INCLUSAO'] = pd.to_datetime(df_transformed['DAT_INCLUSAO'], format='%Y-%m-%d', errors='coerce')\n",
    "df_transformed['DAT_ALTERACAO'] = pd.to_datetime(df_transformed['DAT_ALTERACAO'], format='%Y-%m-%d', errors='coerce')\n",
    "df_transformed['DAT_ALTERACAO_SUBSTITUTO'] = pd.to_datetime(df_transformed['DAT_ALTERACAO_SUBSTITUTO'],\n",
    "                                                            format='%Y-%m-%d', errors='coerce')\n",
    "df_transformed['DAT_INCLUSAO_SUBSTITUTO'] = pd.to_datetime(df_transformed['DAT_INCLUSAO_SUBSTITUTO'], format='%Y-%m-%d',\n",
    "                                                           errors='coerce')\n",
    "df_transformed['DT_INGRESSO_TITULAR'] = pd.to_datetime(df_transformed['DT_INGRESSO_TITULAR'], format='%Y-%m-%d',\n",
    "                                                       errors='coerce')\n",
    "df_transformed['DT_NOMEACAO_TITULAR'] = pd.to_datetime(df_transformed['DT_NOMEACAO_TITULAR'], format='%Y-%m-%d',\n",
    "                                                       errors='coerce')\n",
    "df_transformed['DT_ASSUNCAO_SERVENTIA_TITULAR'] = pd.to_datetime(df_transformed['DT_ASSUNCAO_SERVENTIA_TITULAR'],\n",
    "                                                                 format='%Y-%m-%d', errors='coerce')\n",
    "df_transformed['DT_COLACAO_GRAU_TITULAR'] = pd.to_datetime(df_transformed['DT_COLACAO_GRAU_TITULAR'], format='%Y-%m-%d',\n",
    "                                                           errors='coerce')\n",
    "df_transformed['SEQ'] = df_transformed['SEQ'].astype(int)\n",
    "df_transformed['COD_IBGE'] = df_transformed['COD_IBGE'].astype('Int32')\n",
    "df_transformed['BACHARELADO_TITULAR'] = df_transformed['BACHARELADO_TITULAR'].astype(bool)\n",
    "df_transformed['FORMA_INGRESSO_TITULAR'] = df_transformed['FORMA_INGRESSO_TITULAR'].astype(bool)\n",
    "df_transformed['STATUS_SERVENTIA'] = df_transformed['STATUS_SERVENTIA'].astype(bool)\n",
    "df_transformed['ATRIBUICAO'] = df_transformed['ATRIBUICAO'].astype(str)\n",
    "\n",
    "# pd.to_datetime(df_transformed['DT_INATIVACAO'], format='%Y-%m-%d', errors='coerce', )\n",
    "\n",
    "df_transformed"
   ],
   "id": "c2978a61fa3d6c24",
   "outputs": [],
   "execution_count": null
  },
  {
   "metadata": {},
   "cell_type": "code",
   "source": "df_transformed.head().to_excel(path.joinpath('.xlsx'), index=False)",
   "id": "df2c9979f0822eca",
   "outputs": [],
   "execution_count": null
  },
  {
   "metadata": {},
   "cell_type": "code",
   "source": "df_transformed.to_parquet(path.joinpath('.parquet'), index=False)",
   "id": "4110d859cc35280e",
   "outputs": [],
   "execution_count": null
  },
  {
   "metadata": {},
   "cell_type": "code",
   "source": "df_transformed.columns",
   "id": "add0a4386e2e3184",
   "outputs": [],
   "execution_count": null
  },
  {
   "metadata": {},
   "cell_type": "code",
   "source": [
    "df_renamed = df_transformed.rename(columns={\n",
    "    'SEQ':                           'seq',\n",
    "    'CNS':                           'cns',\n",
    "    'CPNJ':                          'cpnj',\n",
    "    'DENOMINACAO_SERVENTIA':         'denominacao_serventia',\n",
    "    'STATUS_SERVENTIA':              'status_serventia',\n",
    "    'ATRIBUICAO':                    'atribuicao',\n",
    "    'DT_INSTALACAO':                 'dt_instalacao',\n",
    "    'DAT_INCLUSAO':                  'dat_inclusao',\n",
    "    'DAT_ALTERACAO':                 'dat_alteracao',\n",
    "    'UF':                            'uf',\n",
    "    'MUNICIPIO':                     'municipio',\n",
    "    'COD_IBGE':                      'cod_ibge',\n",
    "    'BAIRRO':                        'bairro',\n",
    "    'DISTRITO':                      'distrito',\n",
    "    'SUB_DISTRITO':                  'sub_distrito',\n",
    "    'ENDERECO':                      'endereco',\n",
    "    'COMPLEMENTO':                   'complemento',\n",
    "    'CEP':                           'cep',\n",
    "    'TELEFONE1':                     'telefone_1',\n",
    "    'FAX':                           'fax',\n",
    "    'EMAIL':                         'email',\n",
    "    'HOME_PAGE':                     'home_page',\n",
    "    'DT_INATIVACAO':                 'dt_inativacao',\n",
    "    'NOME_TITULAR':                  'nome_titular',\n",
    "    'CPF_TITULAR':                   'cpf_titular',\n",
    "    'DT_INGRESSO_TITULAR':           'dt_ingresso_titular',\n",
    "    'DT_NOMEACAO_TITULAR':           'dt_nomeacao_titular',\n",
    "    'TIPO_TITULAR':                  'tipo_titular',\n",
    "    'FORMA_INGRESSO_TITULAR':        'forma_ingresso_titular',\n",
    "    'DT_ASSUNCAO_SERVENTIA_TITULAR': 'dt_assuncao_serventia_titular',\n",
    "    'DT_COLACAO_GRAU_TITULAR':       'dt_colacao_grau_titular',\n",
    "    'BACHARELADO_TITULAR':           'bacharelado_titular',\n",
    "    'NOME_SUBSTITUTO':               'nome_substituto',\n",
    "    'CPF_SUBSTITUTO':                'cpf_substituto',\n",
    "    'EMAIL_SUBSTITUTO':              'email_substituto',\n",
    "    'DAT_INCLUSAO_SUBSTITUTO':       'dat_inclusao_substituto',\n",
    "    'DAT_ALTERACAO_SUBSTITUTO':      'dat_alteracao_substituto',\n",
    "})\n",
    "df_renamed.to_parquet(path.joinpath('parquet'), index=False)\n"
   ],
   "id": "6a748983a7443361",
   "outputs": [],
   "execution_count": null
  },
  {
   "metadata": {},
   "cell_type": "code",
   "source": "",
   "id": "510a9d1d3b5a6f0f",
   "outputs": [],
   "execution_count": null
  },
  {
   "metadata": {},
   "cell_type": "markdown",
   "source": "dev-onr-data-lake.cnj.correge_extra_judicial",
   "id": "f64ce7f7e907918d"
  }
 ],
 "metadata": {
  "kernelspec": {
   "display_name": "Python 3",
   "language": "python",
   "name": "python3"
  },
  "language_info": {
   "codemirror_mode": {
    "name": "ipython",
    "version": 2
   },
   "file_extension": ".py",
   "mimetype": "text/x-python",
   "name": "python",
   "nbconvert_exporter": "python",
   "pygments_lexer": "ipython2",
   "version": "2.7.6"
  }
 },
 "nbformat": 4,
 "nbformat_minor": 5
}
